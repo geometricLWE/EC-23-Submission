{
 "cells": [
  {
   "cell_type": "code",
   "execution_count": 4,
   "metadata": {},
   "outputs": [],
   "source": [
    "load(\"../framework/instance_gen.sage\")"
   ]
  },
  {
   "cell_type": "code",
   "execution_count": 64,
   "metadata": {},
   "outputs": [],
   "source": [
    "def anticyclicMat(vec_list):\n",
    "    dim = len(vec_list)\n",
    "    return matrix([[vec_list[(j-k)%dim] if j-k >= 0 else -vec_list[(j-k)%dim] for j in range(dim)] for k in range(dim)])"
   ]
  },
  {
   "cell_type": "code",
   "execution_count": 108,
   "metadata": {},
   "outputs": [
    {
     "name": "stdout",
     "output_type": "stream",
     "text": [
      "dim,  log2experiment,  log2expect\n",
      "300 270.80508541970454 149.500000000000\n",
      "350 333.9713304005323 174.500000000000\n",
      "400 396.5498856505653 199.500000000000\n",
      "450 384.08891825254074 224.500000000000\n",
      "500 479.2831671319642 249.500000000000\n",
      "550 478.08694392763516 274.500000000000\n"
     ]
    }
   ],
   "source": [
    "q = 2\n",
    "nb_tests = 10\n",
    "print(\"dim,  log2experiment,  log2expect\")\n",
    "for n in range(300,600, 50):\n",
    "    log2factor = (n-1)/2.n()\n",
    "    ratio_sum = 0\n",
    "    for _ in range(nb_tests):\n",
    "        A = matrix([[randint(0, q) for _ in range(n)] for _ in range(n)])\n",
    "        a = [randint(0, q) for _ in range(n)]\n",
    "        ideal_A = anticyclicMat(a)\n",
    "        random_det = (A*A.T).det()\n",
    "        ideal_det = (ideal_A*ideal_A.T).det()\n",
    "        ratio_sum += ideal_det/random_det\n",
    "    log2ratio = math.log2(ratio_sum/nb_tests)\n",
    "    print(n,log2ratio, log2factor)"
   ]
  },
  {
   "cell_type": "code",
   "execution_count": null,
   "metadata": {},
   "outputs": [],
   "source": []
  }
 ],
 "metadata": {
  "kernelspec": {
   "display_name": "SageMath 9.1",
   "language": "sage",
   "name": "sagemath"
  },
  "language_info": {
   "codemirror_mode": {
    "name": "ipython",
    "version": 3
   },
   "file_extension": ".py",
   "mimetype": "text/x-python",
   "name": "python",
   "nbconvert_exporter": "python",
   "pygments_lexer": "ipython3",
   "version": "3.7.3"
  }
 },
 "nbformat": 4,
 "nbformat_minor": 2
}
